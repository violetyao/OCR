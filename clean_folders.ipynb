{
 "cells": [
  {
   "cell_type": "code",
   "execution_count": 49,
   "metadata": {},
   "outputs": [],
   "source": [
    "import os"
   ]
  },
  {
   "cell_type": "code",
   "execution_count": 71,
   "metadata": {},
   "outputs": [],
   "source": [
    "from os.path import join\n",
    "from os import listdir, rmdir\n",
    "from shutil import move"
   ]
  },
  {
   "cell_type": "code",
   "execution_count": 93,
   "metadata": {},
   "outputs": [
    {
     "data": {
      "text/plain": [
       "'/Users/violetyao/Desktop/demo'"
      ]
     },
     "execution_count": 93,
     "metadata": {},
     "output_type": "execute_result"
    }
   ],
   "source": [
    "pwd"
   ]
  },
  {
   "cell_type": "markdown",
   "metadata": {},
   "source": [
    "1. Rename filename as directory + filename\n",
    "2. Move every files from different subfolders to a single folder \"LG97_cleaned\"\n",
    "\n",
    "E.g. demo/LG97_sources/70-Haute-Saìne/1er tour/2äme circonscription/Jean-Marc Brissaud/IMAG0188.pdf  -> demo/LG97_sources-70-Haute-Saìne-1er tour-2äme circonscription-Jean-Marc Brissaud-IMAG0188.pdf"
   ]
  },
  {
   "cell_type": "markdown",
   "metadata": {},
   "source": [
    "path is original folders which each contains several folders, new_path is where we want to store all pdf in one single folder. "
   ]
  },
  {
   "cell_type": "code",
   "execution_count": 100,
   "metadata": {},
   "outputs": [],
   "source": [
    "path = './LG97_sources/'"
   ]
  },
  {
   "cell_type": "code",
   "execution_count": 101,
   "metadata": {},
   "outputs": [],
   "source": [
    "new_path = \"./LG97_cleaned/\""
   ]
  },
  {
   "cell_type": "code",
   "execution_count": 102,
   "metadata": {},
   "outputs": [],
   "source": [
    "for subdir, dirs, files in os.walk(path):\n",
    "    for file in files:\n",
    "        if file.endswith('.pdf') or file.endswith('.PDF'):\n",
    "            path_inner = os.path.join(subdir, file)\n",
    "            print(path_inner)\n",
    "            target = os.path.join(new_path, path_inner[2:].replace('/','-'))\n",
    "            os.rename(path_inner, target)"
   ]
  }
 ],
 "metadata": {
  "kernelspec": {
   "display_name": "Python 3",
   "language": "python",
   "name": "python3"
  },
  "language_info": {
   "codemirror_mode": {
    "name": "ipython",
    "version": 3
   },
   "file_extension": ".py",
   "mimetype": "text/x-python",
   "name": "python",
   "nbconvert_exporter": "python",
   "pygments_lexer": "ipython3",
   "version": "3.7.1"
  }
 },
 "nbformat": 4,
 "nbformat_minor": 2
}
