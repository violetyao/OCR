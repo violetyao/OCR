{
 "cells": [
  {
   "cell_type": "code",
   "execution_count": 3,
   "metadata": {},
   "outputs": [
    {
     "name": "stdout",
     "output_type": "stream",
     "text": [
      "Will use tool 'Tesseract (sh)'\n",
      "Available languages: eng, fra, osd, snum\n",
      "Will use lang 'eng'\n"
     ]
    }
   ],
   "source": [
    "# install pyocr\n",
    "# install tesseract\n",
    "# install imagemagic \n",
    "from wand.image import Image\n",
    "from PIL import Image as PI\n",
    "from PIL.Image import Image\n",
    "import pyocr\n",
    "import pyocr.builders\n",
    "import io\n",
    "import os\n",
    "import errno\n",
    "import numpy as np\n",
    "import numba\n",
    "import sys\n",
    "\n",
    "\n",
    "tools = pyocr.get_available_tools()\n",
    "if len(tools) == 0:\n",
    "    print(\"No OCR tool found\")\n",
    "    sys.exit(1)\n",
    "# The tools are returned in the recommended order of usage\n",
    "tool = tools[0]\n",
    "print(\"Will use tool '%s'\" % (tool.get_name()))\n",
    "# Ex: Will use tool 'libtesseract'\n",
    "\n",
    "langs = tool.get_available_languages()\n",
    "print(\"Available languages: %s\" % \", \".join(langs))\n",
    "lang = langs[0]\n",
    "print(\"Will use lang '%s'\" % (lang))\n",
    "# Ex: Will use lang 'fra'  "
   ]
  },
  {
   "cell_type": "code",
   "execution_count": 4,
   "metadata": {},
   "outputs": [
    {
     "data": {
      "text/plain": [
       "'/Users/violetyao/Desktop/2019Spring/French_election_research/ocr/LG97'"
      ]
     },
     "execution_count": 4,
     "metadata": {},
     "output_type": "execute_result"
    }
   ],
   "source": [
    "pwd"
   ]
  },
  {
   "cell_type": "code",
   "execution_count": 6,
   "metadata": {},
   "outputs": [],
   "source": [
    "lang = 'fra'"
   ]
  },
  {
   "cell_type": "code",
   "execution_count": 7,
   "metadata": {},
   "outputs": [
    {
     "data": {
      "text/plain": [
       "'fra'"
      ]
     },
     "execution_count": 7,
     "metadata": {},
     "output_type": "execute_result"
    }
   ],
   "source": [
    "lang"
   ]
  },
  {
   "cell_type": "code",
   "execution_count": null,
   "metadata": {},
   "outputs": [
    {
     "name": "stdout",
     "output_type": "stream",
     "text": [
      "/Users/violetyao/Desktop/2019Spring/French_election_research/ocr/LG97/LG97_source/71-Saìne-et-Loire-2äme tour-4äme circonscription-Pierre Corneloup-IMAG0133.pdf\n",
      "/Users/violetyao/Desktop/2019Spring/French_election_research/ocr/LG97/LG97_source/68-Haut Rhin-1er tour-4äme circonscription-Michel Labarre-IMAG0283.pdf\n",
      "/Users/violetyao/Desktop/2019Spring/French_election_research/ocr/LG97/LG97_source/72 - Sarthe-1er tour-2äme circonscription-Jean-Claude Jouanneau-IMAG0051.pdf\n",
      "/Users/violetyao/Desktop/2019Spring/French_election_research/ocr/LG97/LG97_source/69 - Rhìne-1er tour-12äme circonscription-Alain Veysset-IMAG0318.pdf\n",
      "/Users/violetyao/Desktop/2019Spring/French_election_research/ocr/LG97/LG97_source/68-Haut Rhin-1er tour-7äme circonscription-Michel Habig-IMAG0355.pdf\n",
      "/Users/violetyao/Desktop/2019Spring/French_election_research/ocr/LG97/LG97_source/69 - Rhìne-1er tour-10äme circonscription-Yves Cuerq-IMAG0259.pdf\n",
      "/Users/violetyao/Desktop/2019Spring/French_election_research/ocr/LG97/LG97_source/72 - Sarthe-1er tour-4äme circonscription-GÇrard Saudubray-IMAG0078.pdf\n",
      "/Users/violetyao/Desktop/2019Spring/French_election_research/ocr/LG97/LG97_source/69 - Rhìne-1er tour-6äme circonscription-Dominique Mignot-IMAG0178.pdf\n",
      "/Users/violetyao/Desktop/2019Spring/French_election_research/ocr/LG97/LG97_source/69 - Rhìne-2äme tour-5äme circonscription-Jean Rigaud-IMAG0415.pdf\n",
      "/Users/violetyao/Desktop/2019Spring/French_election_research/ocr/LG97/LG97_source/74 - Haute Savoie-1er tour-1äre circonscription-Sylvie Gillet de Thorey-IMAG0155.pdf\n",
      "/Users/violetyao/Desktop/2019Spring/French_election_research/ocr/LG97/LG97_source/69 - Rhìne-1er tour-2äme circonscription-FrÇdÇric Gaffiot-IMAG0059.pdf\n",
      "/Users/violetyao/Desktop/2019Spring/French_election_research/ocr/LG97/LG97_source/69 - Rhìne-1er tour-7äme circonscription-Jean-Pierre Calvel-IMAG0194.pdf\n",
      "/Users/violetyao/Desktop/2019Spring/French_election_research/ocr/LG97/LG97_source/78-Yvelines-1er tour-11äme circonscription-Michel Espinat-2011-01-01 0.pdf\n",
      "/Users/violetyao/Desktop/2019Spring/French_election_research/ocr/LG97/LG97_source/69 - Rhìne-1er tour-13äme circonscription-Armand Creus-IMAG0354.pdf\n",
      "/Users/violetyao/Desktop/2019Spring/French_election_research/ocr/LG97/LG97_source/68-Haut Rhin-2äme tour-3äme circonscription-Michel Habib-IMAG0404.pdf\n",
      "/Users/violetyao/Desktop/2019Spring/French_election_research/ocr/LG97/LG97_source/78-Yvelines-1er tour-8äme circonscription-Pierre BÇdier-2011-01-01 0.pdf\n",
      "/Users/violetyao/Desktop/2019Spring/French_election_research/ocr/LG97/LG97_source/69 - Rhìne-1er tour-3äme circonscription-GÇnÇration Çcologie-IMAG0076.pdf\n",
      "/Users/violetyao/Desktop/2019Spring/French_election_research/ocr/LG97/LG97_source/78-Yvelines-1er tour-3äme circonscription-Jacques Desmoineaux-2011-01-01 0.pdf\n",
      "/Users/violetyao/Desktop/2019Spring/French_election_research/ocr/LG97/LG97_source/69 - Rhìne-1er tour-3äme circonscription-Denis le TouzÇ-IMAG0100.pdf\n",
      "/Users/violetyao/Desktop/2019Spring/French_election_research/ocr/LG97/LG97_source/78-Yvelines-1er tour-10äme circonscription-Christine Boutin-2011-01-01 0.pdf\n",
      "/Users/violetyao/Desktop/2019Spring/French_election_research/ocr/LG97/LG97_source/71-Saìne-et-Loire-1er tour-5äme circonscription-Joâlle Juillet-IMAG0093.pdf\n"
     ]
    }
   ],
   "source": [
    "path = '/Users/violetyao/Desktop/2019Spring/French_election_research/ocr/LG97/LG97_source'\n",
    "\n",
    "for subdir, dirs, files in os.walk(path):\n",
    "\n",
    "    for file in files:\n",
    "\n",
    "        if 'DS_Store' not in file and file.endswith('.pdf'):\n",
    "            print(subdir +'/'+ file)\n",
    "\n",
    "            req_image = []\n",
    "            final_text = []\n",
    "\n",
    "            image_pdf = Image(filename= subdir +'/'+ file, resolution=300)\n",
    "            image_jpeg = image_pdf.convert('jpeg')\n",
    "\n",
    "            for img in image_jpeg.sequence:\n",
    "                img_page = Image(image=img)\n",
    "                req_image.append(img_page.make_blob('jpeg'))\n",
    "\n",
    "\n",
    "            for img in req_image: \n",
    "                txt = tool.image_to_string(\n",
    "                    PI.open(io.BytesIO(img)),\n",
    "                    lang=lang,\n",
    "                    builder=pyocr.builders.TextBuilder()\n",
    "                )\n",
    "                final_text.append(txt) \n",
    "            \n",
    "            filename = subdir +'/'+ 'LG97_output/'+ file[:-4] +'.txt'\n",
    "            os.makedirs(os.path.dirname(filename), exist_ok=True)\n",
    "            with open(filename, \"w\") as f:\n",
    "                for item in final_text:\n",
    "                    f.write(\"%s\\n\" % item)"
   ]
  }
 ],
 "metadata": {
  "kernelspec": {
   "display_name": "Python 3",
   "language": "python",
   "name": "python3"
  },
  "language_info": {
   "codemirror_mode": {
    "name": "ipython",
    "version": 3
   },
   "file_extension": ".py",
   "mimetype": "text/x-python",
   "name": "python",
   "nbconvert_exporter": "python",
   "pygments_lexer": "ipython3",
   "version": "3.7.1"
  }
 },
 "nbformat": 4,
 "nbformat_minor": 2
}
