{
 "cells": [
  {
   "cell_type": "code",
   "execution_count": 1,
   "metadata": {},
   "outputs": [
    {
     "name": "stdout",
     "output_type": "stream",
     "text": [
      "Will use tool 'Tesseract (sh)'\n",
      "Available languages: afr, amh, ara, asm, aze, aze_cyrl, bel, ben, bod, bos, bre, bul, cat, ceb, ces, chi_sim, chi_sim_vert, chi_tra, chi_tra_vert, chr, cos, cym, dan, deu, div, dzo, ell, eng, enm, epo, est, eus, fao, fas, fil, fin, fra, frk, frm, fry, gla, gle, glg, grc, guj, hat, heb, hin, hrv, hun, hye, iku, ind, isl, ita, ita_old, jav, jpn, jpn_vert, kan, kat, kat_old, kaz, khm, kir, kmr, kor, kor_vert, lao, lat, lav, lit, ltz, mal, mar, mkd, mlt, mon, mri, msa, mya, nep, nld, nor, oci, ori, osd, pan, pol, por, pus, que, ron, rus, san, script/Arabic, script/Armenian, script/Bengali, script/Canadian_Aboriginal, script/Cherokee, script/Cyrillic, script/Devanagari, script/Ethiopic, script/Fraktur, script/Georgian, script/Greek, script/Gujarati, script/Gurmukhi, script/HanS, script/HanS_vert, script/HanT, script/HanT_vert, script/Hangul, script/Hangul_vert, script/Hebrew, script/Japanese, script/Japanese_vert, script/Kannada, script/Khmer, script/Lao, script/Latin, script/Malayalam, script/Myanmar, script/Oriya, script/Sinhala, script/Syriac, script/Tamil, script/Telugu, script/Thaana, script/Thai, script/Tibetan, script/Vietnamese, sin, slk, slv, snd, snum, spa, spa_old, sqi, srp, srp_latn, sun, swa, swe, syr, tam, tat, tel, tgk, tha, tir, ton, tur, uig, ukr, urd, uzb, uzb_cyrl, vie, yid, yor\n",
      "Will use lang 'afr'\n"
     ]
    }
   ],
   "source": [
    "from PIL import Image\n",
    "import sys\n",
    "\n",
    "import pyocr\n",
    "import pyocr.builders\n",
    "\n",
    "tools = pyocr.get_available_tools()\n",
    "if len(tools) == 0:\n",
    "    print(\"No OCR tool found\")\n",
    "    sys.exit(1)\n",
    "# The tools are returned in the recommended order of usage\n",
    "tool = tools[0]\n",
    "print(\"Will use tool '%s'\" % (tool.get_name()))\n",
    "# Ex: Will use tool 'libtesseract'\n",
    "\n",
    "langs = tool.get_available_languages()\n",
    "print(\"Available languages: %s\" % \", \".join(langs))\n",
    "lang = langs[0]\n",
    "print(\"Will use lang '%s'\" % (lang))\n",
    "# Ex: Will use lang 'fra'\n",
    "# Note that languages are NOT sorted in any way. Please refer\n",
    "# to the system locale settings for the default language\n",
    "# to use.\n"
   ]
  },
  {
   "cell_type": "code",
   "execution_count": 3,
   "metadata": {},
   "outputs": [
    {
     "data": {
      "text/plain": [
       "'/Users/apple/Desktop/French_election_research/ocr'"
      ]
     },
     "execution_count": 3,
     "metadata": {},
     "output_type": "execute_result"
    }
   ],
   "source": [
    "pwd"
   ]
  },
  {
   "cell_type": "code",
   "execution_count": 55,
   "metadata": {},
   "outputs": [],
   "source": [
    "from wand.image import Image\n",
    "from PIL import Image as PI\n",
    "import pyocr\n",
    "import pyocr.builders\n",
    "import io"
   ]
  },
  {
   "cell_type": "code",
   "execution_count": 56,
   "metadata": {},
   "outputs": [],
   "source": [
    "lang = 'fra'"
   ]
  },
  {
   "cell_type": "code",
   "execution_count": 57,
   "metadata": {},
   "outputs": [
    {
     "data": {
      "text/plain": [
       "'fra'"
      ]
     },
     "execution_count": 57,
     "metadata": {},
     "output_type": "execute_result"
    }
   ],
   "source": [
    "lang"
   ]
  },
  {
   "cell_type": "code",
   "execution_count": 45,
   "metadata": {},
   "outputs": [],
   "source": [
    "import os\n",
    "path = \"/Users/apple/Desktop/French_election_research/ocr/RG15/\" #文件夹目录\n",
    "files= os.listdir(path) #得到文件夹下的所有文件名称"
   ]
  },
  {
   "cell_type": "code",
   "execution_count": 46,
   "metadata": {},
   "outputs": [
    {
     "name": "stdout",
     "output_type": "stream",
     "text": [
      "['RG15-ARA-UG-QUEYRANNE-tour2-profession_foi.pdf', 'RG15-LRMP-DVG-FABRE-tour1-profession_foi.pdf', 'RG15-ARA-DVD-LAFOND-tour1-bulletin_vote.pdf', 'RG15-MART-LR-MONPLAISIR-tour1-bulletin_vote.pdf', 'RG15-PL-UD-RETAILLEAU-tour1-profession_foi.pdf', 'RG15-BFC-UD-SAUVADET-tour2-bulletin_vote.pdf', 'RG15-MART-REG-NADEAU-tour1-bulletin_vote.pdf', 'RG15-PACA-UD-ESTROSI-tour1-profession_foi.pdf', 'RG15-GUY-REG-LÉTARD-tour1-profession_foi.pdf', 'RG15-GUAD-DVD-SEYMOUR-tour1-bulletin_vote.pdf', 'RG15-PL-EXG-TERRIEN-tour1-profession_foi.pdf', 'RG15-IDF-LA_GAUCHE_-BARTOLONE-tour2-bulletin_vote.pdf', 'RG15-ALPC-UG-ROUSSET-tour1-bulletin_vote.pdf', 'RG15-MART-REG-NADEAU-tour1-profession_foi.pdf', 'RG15-BFC-FN-MONTEL-tour1-profession_foi.pdf', 'RG15-REU-DVG-LEBRETON-tour1-profession_foi.pdf', 'RG15-BFC-UD-SAUVADET-tour1-profession_foi.pdf', 'RG15-IDF-VEC-COSSE-tour1-bulletin_vote.pdf', 'RG15-NPCP-FN-LE_PEN-tour2-profession_foi.pdf', 'RG15-BRET-FN-PENNELLE-tour2-profession_foi.pdf', 'RG15-LRMP-DVG-SAUREL-tour1-bulletin_vote.pdf', 'RG15-BFC-FN-MONTEL-tour2-bulletin_vote.pdf', 'RG15-IDF-DLF-DUPONT-AIGNAN-tour1-bulletin_vote.pdf', 'RG15-GUAD-COM-CADOCE-tour1-profession_foi.pdf', 'RG15-CVL-UG-BONNEAU-tour1-bulletin_vote.pdf', 'RG15-PACA-EXD-BOMPARD-tour1-bulletin_vote.pdf', 'RG15-PL-EXG-LE_BELLER-tour1-profession_foi.pdf', 'RG15-LRMP-FN-ALIOT-tour1-profession_foi.pdf', 'RG15-IDF-DVD-VERON-tour1-bulletin_vote.pdf', 'RG15-CORS-DVG-GIACOBBI-tour1-bulletin_vote.pdf', 'RG15-CORS-FN-CANIONI-tour2-bulletin_vote.pdf', 'RG15-ALPC-FG-DARTIGOLLES-tour1-bulletin_vote.pdf', 'RG15-BRET-UG-LE_DRIAN-tour1-profession_foi.pdf', 'RG15-IDF-UD-PECRESSE-tour2-bulletin_vote.pdf', 'RG15-GUAD-LR-BERNIER-tour1-profession_foi.pdf', 'RG15-GUAD-DVG-CHALUS-tour2-bulletin_vote.pdf', 'RG15-CORS-DLF-SANTONI-tour1-bulletin_vote.pdf', 'RG15-ARA-UD-WAUQUIEZ-tour2-bulletin_vote.pdf', 'RG15-PACA-EXD-BOMPARD-tour1-profession_foi.pdf', 'RG15-ALPC-DIV-DOUET-tour1-profession_foi.pdf', 'RG15-CVL-UG-BONNEAU-tour2-profession_foi.pdf', 'RG15-GUY-DVG-TIEN-LIONG-tour2-bulletin_vote.pdf', 'RG15-NORM-FN-BAY-tour2-bulletin_vote.pdf', 'RG15-BRET-EXG-ROBLIN-tour1-profession_foi.pdf', 'RG15-IDF-DVD-SACHS-tour1-bulletin_vote.pdf', 'RG15-PL-DLF-BAYLE_DE_JESSÉ-tour1-profession_foi.pdf', 'RG15-MART-DIV-JOS-tour1-profession_foi.pdf', 'RG15-MART-DVG-LETCHIMY-tour1-profession_foi.pdf', 'RG15-NPCP-COM-ROUSSEL-tour1-profession_foi.pdf', 'RG15-PACA-DLF-CHUISANO-tour1-bulletin_vote.pdf', 'RG15-GUAD-DVG-PLAISIR-tour1-profession_foi.pdf', 'RG15-IDF-FN-DE_SAINT_JUST-tour2-bulletin_vote.pdf', 'RG15-PACA-ECO-GOVERNATORI-tour1-profession_foi.pdf', 'RG15-PL-VEC-BRINGUY-tour1-profession_foi.pdf', 'RG15-PL-UD-RETAILLEAU-tour1-bulletin_vote.pdf', 'RG15-IDF-FG-LAURENT-tour1-profession_foi.pdf', 'RG15-BRET-EXG-ROBLIN-tour1-bulletin_vote.pdf', 'RG15-REU-MDM-ROBERT-tour1-profession_foi.pdf', 'RG15-ALPC-DVG-PEREIRA-tour1-bulletin_vote.pdf', 'RG15-MART-DVG-LETCHIMY-tour2-profession_foi.pdf', 'RG15-ALPC-FN-COLOMBIER-tour1-bulletin_vote.pdf', 'RG15-CVL-UG-BONNEAU-tour1-profession_foi.pdf', 'RG15-CVL-FN-LOISEAU-tour2-bulletin_vote.pdf', 'RG15-REU-DLF-MOREL-tour1-profession_foi.pdf', 'RG15-CVL-EXG-MEGDOUD-tour1-profession_foi.pdf', 'RG15-CORS-PÈ_A_CORSI-SIMEONI-tour2-profession_foi.pdf', 'RG15-MART-DVD-VIRASSAMY-tour1-profession_foi.pdf', 'RG15-GUAD-FN-VIENNET-tour1-profession_foi.pdf', 'RG15-LRMP-FN-ALIOT-tour2-profession_foi.pdf', 'RG15-BRET-FG-COMPAIN-tour1-profession_foi.pdf', 'RG15-CORS-LE_RASSEMB-ROSSI-tour2-profession_foi.pdf', 'RG15-NPCP-UD-BERTRAND-tour2-bulletin_vote.pdf', 'RG15-NPCP-FN-LE_PEN-tour2-bulletin_vote.pdf', 'RG15-NPCP-DIV-MASCARO-tour1-profession_foi.pdf', 'RG15-NPCP-UG-DE_SAINTIGNON-tour1-bulletin_vote.pdf', 'RG15-GUAD-EXG-NOMERTIN-tour1-profession_foi.pdf', 'RG15-BRET-UG-LE_DRIAN-tour2-profession_foi.pdf', 'RG15-PL-DIV-PARISOT-tour1-bulletin_vote.pdf', 'RG15-BRET-FN-PENNELLE-tour1-profession_foi.pdf', 'RG15-LRMP-ECO-CAVARD-tour1-profession_foi.pdf', 'RG15-GUAD-EXG-NOMERTIN-tour1-bulletin_vote.pdf', 'RG15-ALPC-UD-CALMELS-tour1-bulletin_vote.pdf', 'RG15-BFC-ECO-GONZALEZ-tour1-profession_foi.pdf', 'RG15-BFC-UD-SAUVADET-tour2-profession_foi.pdf', 'RG15-PL-COM-PAGANO-tour1-bulletin_vote.pdf', 'RG15-NPCP-FN-LE_PEN-tour1-profession_foi.pdf', 'RG15-MART-REG-MARIE-JEANNE-tour1-bulletin_vote.pdf', 'RG15-PL-EXG-LE_BELLER-tour1-bulletin_vote.pdf', 'RG15-NORM-DIV-LOUTRE-tour1-profession_foi.pdf', 'RG15-REU-DVG-LEBRETON-tour1-bulletin_vote.pdf', 'RG15-GUAD-REG-MYRE-tour1-profession_foi.pdf', 'RG15-NPCP-VEG-ROUSSEAU-tour1-bulletin_vote.pdf', 'RG15-GUAD-DVD-SEYMOUR-tour1-profession_foi.pdf', 'RG15-BRET-REG-DELÉON-tour1-profession_foi.pdf', 'RG15-PL-UD-RETAILLEAU-tour2-profession_foi.pdf', 'RG15-BFC-VEC-PRUDHOMME-tour1-bulletin_vote.pdf', 'RG15-PL-VEC-BRINGUY-tour1-bulletin_vote.pdf', 'RG15-CORS-DVG-ORSUCCI-tour1-bulletin_vote.pdf', 'RG15-ARA-UG-QUEYRANNE-tour1-profession_foi.pdf', 'RG15-ARA-DLF-RAMBAUD-tour1-profession_foi.pdf', 'RG15-BRET-FN-PENNELLE-tour2-bulletin_vote.pdf', 'RG15-BRET-DIV-GOURVENEC-tour1-profession_foi.pdf', 'RG15-PACA-VEG-CAMARD-tour1-bulletin_vote.pdf', 'RG15-MART-DVG-LETCHIMY-tour1-bulletin_vote.pdf', 'RG15-BFC-FN-MONTEL-tour2-profession_foi.pdf', 'RG15-PACA-UD-ESTROSI-tour2-profession_foi.pdf', 'RG15-ACAL-FN-PHILIPPOT-tour2-bulletin_vote.pdf', 'RG15-PL-UD-RETAILLEAU-tour2-bulletin_vote.pdf', 'RG15-BRET-REG-TROADEC-tour1-bulletin_vote.pdf', 'RG15-NORM-DVG-LECOEUR-tour1-bulletin_vote.pdf', 'RG15-CORS-RDG-ZUCCARELLI-tour1-profession_foi.pdf', 'RG15-CORS-DLF-SANTONI-tour1-profession_foi.pdf', 'RG15-IDF-DIV-DE_SMET-tour1-profession_foi.pdf', 'RG15-NORM-DLF-CALBRIX-tour1-profession_foi.pdf', 'RG15-PACA-FN-MARÉCHAL-LE_PEN-tour1-profession_foi.pdf', 'RG15-ACAL-EXG-WOSTYN-tour1-profession_foi.pdf', 'RG15-CORS-PÈ_A_CORSI-SIMEONI-tour2-bulletin_vote.pdf', 'RG15-BFC-FG-VERMOREL-tour1-bulletin_vote.pdf', 'RG15-CORS-LE_RASSEMB-ROSSI-tour2-bulletin_vote.pdf', 'RG15-LRMP-DVG-FABRE-tour1-bulletin_vote.pdf', 'RG15-REU-MDM-ROBERT-tour1-bulletin_vote.pdf', 'RG15-ALPC-FN-COLOMBIER-tour2-bulletin_vote.pdf', 'RG15-LRMP-DIV-HIRIMIRIS-tour1-profession_foi.pdf', 'RG15-CVL-FN-LOISEAU-tour1-bulletin_vote.pdf', 'RG15-GUY-DVG-ALEXANDRE-tour2-profession_foi.pdf', 'RG15-CVL-DIV-FOUQUIAU-tour1-bulletin_vote.pdf', 'RG15-NORM-FN-BAY-tour2-profession_foi.pdf', 'RG15-PACA-UG-CASTANER-tour1-profession_foi.pdf', 'RG15-NPCP-UD-BERTRAND-tour1-bulletin_vote.pdf', 'RG15-CORS-REG-SIMEONI-tour1-bulletin_vote.pdf', 'RG15-CORS-DVG-GIACOBBI-tour2-profession_foi.pdf', 'RG15-GUAD-DVG-CHALUS-tour2-profession_foi.pdf', 'RG15-NPCP-FN-LE_PEN-tour1-bulletin_vote.pdf', 'RG15-ACAL-REG-TROUILLET-tour1-bulletin_vote.pdf', 'RG15-NPCP-VEG-ROUSSEAU-tour1-profession_foi.pdf', 'RG15-ALPC-UD-CALMELS-tour2-bulletin_vote.pdf', 'RG15-ARA-UD-WAUQUIEZ-tour2-profession_foi.pdf', 'RG15-ALPC-DLF-SETZE-tour1-bulletin_vote.pdf', 'RG15-NORM-EXG-LE_MANACH-tour1-bulletin_vote.pdf', 'RG15-MART-REG-MARIE-JEANNE-tour1-profession_foi.pdf', 'RG15-NORM-EXG-LE_MANACH-tour1-profession_foi.pdf', 'RG15-CORS-DVD-DE_ROCCA_SERRA-tour1-profession_foi.pdf', 'RG15-IDF-DVD-VERON-tour1-profession_foi.pdf', 'RG15-REU-UD-ROBERT-tour2-profession_foi.pdf', 'RG15-MART-GRAN_SANBL-MARIE-JEANNE-tour2-bulletin_vote.pdf', 'RG15-NORM-FG-JUMEL-tour1-profession_foi.pdf', 'RG15-BFC-UG-DUFAY-tour2-profession_foi.pdf', 'RG15-BRET-VEC-LOUAIL-tour1-profession_foi.pdf', 'RG15-GUY-DVG-LÉTARD-tour1-profession_foi.pdf', 'RG15-CVL-DLF-PENLOUP-tour1-profession_foi.pdf', 'RG15-BRET-FN-PENNELLE-tour1-bulletin_vote.pdf', 'RG15-ARA-VEG-KOHLHAAS-tour1-profession_foi.pdf', 'RG15-REU-REG-BOYER-tour1-bulletin_vote.pdf', 'RG15-MART-DVG-LETCHIMY-tour2-bulletin_vote.pdf', 'RG15-ALPC-UG-ROUSSET-tour1-profession_foi.pdf', 'RG15-PL-EXG-TERRIEN-tour1-bulletin_vote.pdf', 'RG15-ACAL-FN-PHILIPPOT-tour1-profession_foi.pdf', 'RG15-BRET-DIV-GOURVENEC-tour1-bulletin_vote.pdf', 'RG15-ACAL-DIV-WENTZEL-tour1-bulletin_vote.pdf', 'RG15-ACAL-FN-PHILIPPOT-tour1-bulletin_vote.pdf', 'RG15-BFC-DLF-THIÉBAUT-tour1-bulletin_vote.pdf', 'RG15-ACAL-UD-RICHERT-tour1-profession_foi.pdf', 'RG15-GUAD-REG-MYRE-tour1-bulletin_vote.pdf', 'RG15-IDF-FN-DE_SAINT_JUST-tour2-profession_foi.pdf', 'RG15-GUY-REG-LÉTARD-tour1-bulletin_vote.pdf', 'RG15-IDF-DIV-HORSFALL-tour1-profession_foi.pdf', 'RG15-BFC-UD-SAUVADET-tour1-bulletin_vote.pdf', 'RG15-CORS-DVD-DE_ROCCA_SERRA-tour1-bulletin_vote.pdf', 'RG15-BFC-UG-DUFAY-tour1-profession_foi.pdf', 'RG15-LRMP-Notre_Sud_-DELGA-tour2-bulletin_vote.pdf', 'RG15-ACAL-UD-RICHERT-tour2-profession_foi.pdf', 'RG15-LRMP-DLF-LEMPEREUR-tour1-profession_foi.pdf', 'RG15-IDF-FN-DE_SAINT_JUST-tour1-profession_foi.pdf', 'RG15-IDF-DIV-DE_SMET-tour1-bulletin_vote.pdf', 'RG15-LRMP-DIV-HIRIMIRIS-tour1-bulletin_vote.pdf', 'RG15-IDF-DVD-SACHS-tour1-profession_foi.pdf', 'RG15-ACAL-FN-PHILIPPOT-tour2-profession_foi.pdf', 'RG15-ARA-UD-WAUQUIEZ-tour1-profession_foi.pdf', 'RG15-CORS-FG-BUCCHINI-tour1-profession_foi.pdf', 'RG15-CORS-REG-BENEDETTI-tour1-bulletin_vote.pdf', 'RG15-NORM-UD-MORIN-tour1-bulletin_vote.pdf', 'RG15-REU-UD-ROBERT-tour1-profession_foi.pdf', 'RG15-REU-DLF-MOREL-tour1-bulletin_vote.pdf', 'RG15-GUY-LR-BUDOC-tour1-bulletin_vote.pdf', 'RG15-BFC-FN-MONTEL-tour1-bulletin_vote.pdf', 'RG15-GUAD-DVG-CHALUS-tour1-profession_foi.pdf', 'RG15-NPCP-DLF-TANGUY-tour1-profession_foi.pdf', 'RG15-ALPC-DIV-DOUET-tour1-bulletin_vote.pdf', 'RG15-CORS-DVG-GIACOBBI-tour1-profession_foi.pdf', 'RG15-LRMP-EXG-TORREMOCHA-tour1-profession_foi.pdf', 'RG15-CVL-UG-BONNEAU-tour2-bulletin_vote.pdf', 'RG15-NORM-FN-BAY-tour1-profession_foi.pdf', 'RG15-GUY-DVG-ALEXANDRE-tour1-profession_foi.pdf', 'RG15-CORS-DVG-GIACOBBI-tour2-bulletin_vote.pdf', 'RG15-NPCP-EXG-PECQUEUR-tour1-profession_foi.pdf', 'RG15-REU-DVG-RATENON-tour1-bulletin_vote.pdf', 'RG15-CORS-FN-CANIONI-tour1-bulletin_vote.pdf', 'RG15-GUAD-DVG-CHALUS-tour1-bulletin_vote.pdf', 'RG15-IDF-UD-PECRESSE-tour1-bulletin_vote.pdf', 'RG15-NORM-UD-MORIN-tour1-profession_foi.pdf', 'RG15-IDF-UG-BARTOLONE-tour1-bulletin_vote.pdf', 'RG15-PACA-FN-MARÉCHAL-LE_PEN-tour2-profession_foi.pdf', 'RG15-ACAL-REG-TROUILLET-tour1-profession_foi.pdf', 'RG15-ACAL-FG-PERON-tour1-bulletin_vote.pdf', 'RG15-PACA-EXG-BONNET-tour1-bulletin_vote.pdf', 'RG15-ARA-UD-WAUQUIEZ-tour1-bulletin_vote.pdf', 'RG15-GUAD-DVD-YOYOTTE-tour1-bulletin_vote.pdf', 'RG15-GUY-DVG-TIEN-LIONG-tour1-bulletin_vote.pdf', 'RG15-NORM-FN-BAY-tour1-bulletin_vote.pdf', 'RG15-IDF-DLF-DUPONT-AIGNAN-tour1-profession_foi.pdf', 'RG15-IDF-FN-DE_SAINT_JUST-tour1-bulletin_vote.pdf', 'RG15-LRMP-DLF-LEMPEREUR-tour1-bulletin_vote.pdf', 'RG15-CVL-COM-SANSU-tour1-bulletin_vote.pdf', 'RG15-GUAD-DVD-YOYOTTE-tour1-profession_foi.pdf', 'RG15-BRET-EXG-HAMON-tour1-bulletin_vote.pdf', 'RG15-MART-UDI-PETIT-tour1-profession_foi.pdf', 'RG15-PACA-DIV-ROMANI-tour1-profession_foi.pdf', 'RG15-CORS-FG-BUCCHINI-tour1-bulletin_vote.pdf', 'RG15-GUY-LR-BUDOC-tour1-profession_foi.pdf', 'RG15-BFC-MDM-GRUDLER-tour1-profession_foi.pdf', 'RG15-ARA-DIV-FÉDÈLE-tour1-profession_foi.pdf', 'RG15-MART-EXG-JOACHIM-ARNAUD-tour1-profession_foi.pdf', 'RG15-NPCP-UD-BERTRAND-tour1-profession_foi.pdf', 'RG15-ALPC-UD-CALMELS-tour1-profession_foi.pdf', 'RG15-IDF-EXG-ARTHAUD-tour1-profession_foi.pdf', 'RG15-CORS-REG-TALAMONI-tour1-bulletin_vote.pdf', 'RG15-LRMP-VEG-ONESTA-tour1-profession_foi.pdf', 'RG15-PL-UG-CLERGEAU-tour1-profession_foi.pdf', 'RG15-ALPC-EXG-PERCHET-tour1-profession_foi.pdf', 'RG15-ACAL-DIV-WENTZEL-tour1-profession_foi.pdf', 'RG15-REU-UD-ROBERT-tour2-bulletin_vote.pdf', 'RG15-CORS-DVG-ORSUCCI-tour1-profession_foi.pdf', 'RG15-CORS-SOC-DE_GENTILI-tour1-bulletin_vote.pdf', 'RG15-PL-FN-GANNAT-tour2-bulletin_vote.pdf', 'RG15-BRET-UD-LE_FUR-tour2-bulletin_vote.pdf', 'RG15-GUAD-COM-CADOCE-tour1-bulletin_vote.pdf', 'RG15-BFC-FG-VERMOREL-tour1-profession_foi.pdf', 'RG15-GUY-DVG-BERTHELOT-tour1-bulletin_vote.pdf', 'RG15-PACA-UD-ESTROSI-tour2-bulletin_vote.pdf', 'RG15-GUY-DVG-TAUBIRA-tour1-bulletin_vote.pdf', 'RG15-IDF-EXG-ARTHAUD-tour1-bulletin_vote.pdf', 'RG15-REU-FN-GRONDIN-tour1-bulletin_vote.pdf', 'RG15-ACAL-VEC-BÉLIER-tour1-bulletin_vote.pdf', 'RG15-BRET-REG-TROADEC-tour1-profession_foi.pdf', 'RG15-PACA-DIV-ROMANI-tour1-bulletin_vote.pdf', 'RG15-ARA-UG-QUEYRANNE-tour1-bulletin_vote.pdf', 'RG15-REU-DVD-VICTORIA-tour1-profession_foi.pdf', 'RG15-ALPC-VEC-COUTANT-tour1-bulletin_vote.pdf', 'RG15-GUY-DVG-TIEN-LIONG-tour2-profession_foi.pdf', 'RG15-LRMP-FN-ALIOT-tour2-bulletin_vote.pdf', 'RG15-ARA-EXG-GOMEZ-tour1-profession_foi.pdf', 'RG15-ALPC-EXG-PERCHET-tour1-bulletin_vote.pdf', 'RG15-IDF-FG-LAURENT-tour1-bulletin_vote.pdf', 'RG15-CVL-EXG-MEGDOUD-tour1-bulletin_vote.pdf', 'RG15-CORS-RDG-ZUCCARELLI-tour1-bulletin_vote.pdf', 'RG15-GUAD-SOC-LUREL-tour2-bulletin_vote.pdf', 'RG15-NPCP-COM-ROUSSEL-tour1-bulletin_vote.pdf', 'RG15-BFC-UG-DUFAY-tour1-bulletin_vote.pdf', 'RG15-PACA-FN-MARÉCHAL-LE_PEN-tour1-bulletin_vote.pdf', 'RG15-CVL-UD-VIGIER-tour2-profession_foi.pdf', 'RG15-REU-DIV-APPADOO-tour1-profession_foi.pdf', 'RG15-ACAL-FG-PERON-tour1-profession_foi.pdf', 'RG15-BFC-DIV-GALLOIS-tour1-profession_foi.pdf', 'RG15-CVL-UD-VIGIER-tour1-bulletin_vote.pdf', 'RG15-ARA-FN-BOUDOT-tour1-bulletin_vote.pdf', 'RG15-LRMP-Notre_Sud_-DELGA-tour2-profession_foi.pdf', 'RG15-ARA-FN-BOUDOT-tour1-profession_foi.pdf', 'RG15-MART-LR-MONPLAISIR-tour1-profession_foi.pdf', 'RG15-LRMP-UD-REYNIÉ-tour1-profession_foi.pdf', 'RG15-ACAL-UG-MASSERET-tour2-bulletin_vote.pdf', 'RG15-BRET-DLF-FOUCHER-tour1-bulletin_vote.pdf', 'RG15-ALPC-FN-COLOMBIER-tour1-profession_foi.pdf', 'RG15-GUAD-SOC-LUREL-tour1-profession_foi.pdf', 'RG15-NORM-UG-MAYER-ROSSIGNOL-tour1-profession_foi.pdf', 'RG15-NPCP-DVD-BLONDEL-tour1-bulletin_vote.pdf', 'RG15-BRET-DLF-FOUCHER-tour1-profession_foi.pdf', 'RG15-ACAL-UG-MASSERET-tour1-profession_foi.pdf', 'RG15-NORM-DIV-LOUTRE-tour1-bulletin_vote.pdf', 'RG15-ACAL-EXG-WOSTYN-tour1-bulletin_vote.pdf', 'RG15-ALPC-DVG-BOUSSION-tour1-profession_foi.pdf', 'RG15-LRMP-UD-REYNIÉ-tour2-profession_foi.pdf', 'RG15-ARA-FN-BOUDOT-tour2-profession_foi.pdf', 'RG15-PACA-DVG-JARNY-tour1-bulletin_vote.pdf', 'RG15-PL-DLF-BAYLE_DE_JESSÉ-tour1-bulletin_vote.pdf', 'RG15-GUAD-DVG-PLAISIR-tour1-bulletin_vote.pdf', 'RG15-NPCP-DVD-BLONDEL-tour1-profession_foi.pdf', 'RG15-MART-DIV-JOS-tour1-bulletin_vote.pdf', 'RG15-ACAL-UG-MASSERET-tour2-profession_foi.pdf', 'RG15-ALPC-FN-COLOMBIER-tour2-profession_foi.pdf', 'RG15-GUAD-SOC-LUREL-tour2-profession_foi.pdf', 'RG15-LRMP-UD-REYNIÉ-tour2-bulletin_vote.pdf', 'RG15-GUAD-FN-VIENNET-tour1-bulletin_vote.pdf', 'RG15-MART-DVD-VIRASSAMY-tour1-bulletin_vote.pdf', 'RG15-ACAL-DLF-JACOBELLI-tour1-profession_foi.pdf', 'RG15-BFC-EXG-ROCHER-tour1-profession_foi.pdf', 'RG15-ACAL-UD-RICHERT-tour1-bulletin_vote.pdf', 'RG15-IDF-LA_GAUCHE_-BARTOLONE-tour2-profession_foi.pdf', 'RG15-BFC-DIV-GALLOIS-tour1-bulletin_vote.pdf', 'RG15-BRET-UG-LE_DRIAN-tour1-bulletin_vote.pdf', 'RG15-GUY-DVG-ALEXANDRE-tour1-bulletin_vote.pdf', 'RG15-ARA-DIV-FÉDÈLE-tour1-bulletin_vote.pdf', 'RG15-GUY-DVG-LÉTARD-tour1-bulletin_vote.pdf', 'RG15-LRMP-DVG-SAUREL-tour1-profession_foi.pdf', 'RG15-GUY-DVG-TIEN-LIONG-tour1-profession_foi.pdf', 'RG15-REU-DIV-PAYET-tour1-profession_foi.pdf', 'RG15-CORS-SOC-DE_GENTILI-tour1-profession_foi.pdf', 'RG15-BRET-VEC-LOUAIL-tour1-bulletin_vote.pdf', 'RG15-CVL-UD-VIGIER-tour1-profession_foi.pdf', 'RG15-GUY-REG-CANAVY-tour1-profession_foi.pdf', 'RG15-NORM-VEC-SOUBIEN-tour1-bulletin_vote.pdf', 'RG15-LRMP-EXD-MARTINEZ-tour1-bulletin_vote.pdf', 'RG15-PL-UG-CLERGEAU-tour2-bulletin_vote.pdf', 'RG15-ALPC-PLUS_FORTS-ROUSSET-tour2-profession_foi.pdf', 'RG15-BFC-EXG-ROCHER-tour1-bulletin_vote.pdf', 'RG15-REU-UG-BELLO-tour2-bulletin_vote.pdf', 'RG15-GUY-REG-CANAVY-tour1-bulletin_vote.pdf', 'RG15-PL-UG-CLERGEAU-tour2-profession_foi.pdf', 'RG15-NPCP-DLF-TANGUY-tour1-bulletin_vote.pdf', 'RG15-PL-DIV-PARISOT-tour1-profession_foi.pdf', 'RG15-ACAL-DLF-JACOBELLI-tour1-bulletin_vote.pdf', 'RG15-LRMP-EXD-MARTINEZ-tour1-profession_foi.pdf', 'RG15-PL-REG-DENIGOT-tour1-bulletin_vote.pdf', 'RG15-NORM-UG-MAYER-ROSSIGNOL-tour1-bulletin_vote.pdf', 'RG15-NPCP-UD-BERTRAND-tour2-profession_foi.pdf', 'RG15-GUY-DVG-BERTHELOT-tour1-profession_foi.pdf', 'RG15-IDF-DIV-ASSELINEAU-tour1-profession_foi.pdf', 'RG15-ALPC-UD-CALMELS-tour2-profession_foi.pdf', 'RG15-ARA-EXG-GOMEZ-tour1-bulletin_vote.pdf', 'RG15-ARA-DVD-LAFOND-tour1-profession_foi.pdf', 'RG15-REU-UG-BELLO-tour1-profession_foi.pdf', 'RG15-REU-FN-GRONDIN-tour1-profession_foi.pdf', 'RG15-ALPC-DVG-BOUSSION-tour1-bulletin_vote.pdf', 'RG15-LRMP-UG-DELGA-tour1-profession_foi.pdf', 'RG15-NORM-DLF-CALBRIX-tour1-bulletin_vote.pdf', 'RG15-CVL-VEC-FOURNIER-tour1-bulletin_vote.pdf', 'RG15-ACAL-UD-RICHERT-tour2-bulletin_vote.pdf', 'RG15-LRMP-UD-REYNIÉ-tour1-bulletin_vote.pdf', 'RG15-ARA-VEG-KOHLHAAS-tour1-bulletin_vote.pdf', 'RG15-MART-DVG-GROMAT-tour1-bulletin_vote.pdf', 'RG15-GUY-DVG-ALEXANDRE-tour2-bulletin_vote.pdf', 'RG15-BRET-UG-LE_DRIAN-tour2-bulletin_vote.pdf', 'RG15-BFC-ECO-GONZALEZ-tour1-bulletin_vote.pdf', 'RG15-NORM-FG-JUMEL-tour1-bulletin_vote.pdf', 'RG15-CVL-FN-LOISEAU-tour1-profession_foi.pdf', 'RG15-BRET-UD-LE_FUR-tour1-profession_foi.pdf', 'RG15-MART-DVG-GROMAT-tour1-profession_foi.pdf', 'RG15-BRET-FG-COMPAIN-tour1-bulletin_vote.pdf', 'RG15-LRMP-ECO-CAVARD-tour1-bulletin_vote.pdf', 'RG15-ALPC-VEC-COUTANT-tour1-profession_foi.pdf', 'RG15-ARA-COM-CUKIERMAN-tour1-profession_foi.pdf', 'RG15-PL-UG-CLERGEAU-tour1-bulletin_vote.pdf', 'RG15-PL-FN-GANNAT-tour2-profession_foi.pdf', 'RG15-CORS-FN-CANIONI-tour2-profession_foi.pdf', 'RG15-CORS-REG-SIMEONI-tour1-profession_foi.pdf', 'RG15-REU-UG-BELLO-tour1-bulletin_vote.pdf', 'RG15-ALPC-DLF-SETZE-tour1-profession_foi.pdf', 'RG15-REU-EXG-PAYET-tour1-profession_foi.pdf', 'RG15-REU-EXG-PAYET-tour1-bulletin_vote.pdf', 'RG15-REU-DVG-RATENON-tour1-profession_foi.pdf', 'RG15-BRET-EXG-HAMON-tour1-profession_foi.pdf', 'RG15-NPCP-UG-DE_SAINTIGNON-tour1-profession_foi.pdf', 'RG15-NPCP-EXG-PECQUEUR-tour1-bulletin_vote.pdf', 'RG15-PL-REG-DENIGOT-tour1-profession_foi.pdf', 'RG15-CVL-DLF-PENLOUP-tour1-bulletin_vote.pdf', 'RG15-PL-COM-PAGANO-tour1-profession_foi.pdf', 'RG15-ARA-COM-CUKIERMAN-tour1-bulletin_vote.pdf', 'RG15-BRET-REG-DELÉON-tour1-bulletin_vote.pdf', 'RG15-ARA-DLF-RAMBAUD-tour1-bulletin_vote.pdf', 'RG15-BFC-DLF-THIÉBAUT-tour1-profession_foi.pdf', 'RG15-MART-UDI-PETIT-tour1-bulletin_vote.pdf', 'RG15-REU-DIV-PAYET-tour1-bulletin_vote.pdf', 'RG15-IDF-VEC-COSSE-tour1-profession_foi.pdf', 'RG15-IDF-UD-PECRESSE-tour1-profession_foi.pdf', 'RG15-LRMP-UG-DELGA-tour1-bulletin_vote.pdf', 'RG15-LRMP-EXG-TORREMOCHA-tour1-bulletin_vote.pdf', 'RG15-IDF-DIV-BOURCHADA-tour1-bulletin_vote.pdf', 'RG15-BFC-VEC-PRUDHOMME-tour1-profession_foi.pdf', 'RG15-ALPC-FG-DARTIGOLLES-tour1-profession_foi.pdf', 'RG15-CORS-LR-ROSSI-tour1-profession_foi.pdf', 'RG15-IDF-UD-PECRESSE-tour2-profession_foi.pdf', 'RG15-GUY-DVD-ICARE_NOUREL-tour1-bulletin_vote.pdf', 'RG15-REU-DVD-VICTORIA-tour1-bulletin_vote.pdf', 'RG15-GUAD-LR-BERNIER-tour1-bulletin_vote.pdf', 'RG15-ACAL-VEC-BÉLIER-tour1-profession_foi.pdf', 'RG15-MART-GRAN_SANBL-MARIE-JEANNE-tour2-profession_foi.pdf', 'RG15-GUY-DVG-TAUBIRA-tour1-profession_foi.pdf', 'RG15-PL-FN-GANNAT-tour1-bulletin_vote.pdf', 'RG15-BRET-UD-LE_FUR-tour1-bulletin_vote.pdf', 'RG15-REU-UD-ROBERT-tour1-bulletin_vote.pdf', 'RG15-PACA-UG-CASTANER-tour1-bulletin_vote.pdf', 'RG15-ALPC-PLUS_FORTS-ROUSSET-tour2-bulletin_vote.pdf', 'RG15-PACA-DVG-JARNY-tour1-profession_foi.pdf', 'RG15-NORM-VEC-SOUBIEN-tour1-profession_foi.pdf', 'RG15-PACA-UD-ESTROSI-tour1-bulletin_vote.pdf', 'RG15-NPCP-DIV-MASCARO-tour1-bulletin_vote.pdf', 'RG15-NORM-AU_SERVICE-MAYER-ROSSIGNOL-tour2-profession_foi.pdf', 'RG15-LRMP-VEG-ONESTA-tour1-bulletin_vote.pdf', 'RG15-CVL-COM-SANSU-tour1-profession_foi.pdf', 'RG15-REU-DIV-APPADOO-tour1-bulletin_vote.pdf', 'RG15-ARA-UG-QUEYRANNE-tour2-bulletin_vote.pdf', 'RG15-LRMP-FN-ALIOT-tour1-bulletin_vote.pdf', 'RG15-ALPC-DVG-PEREIRA-tour1-profession_foi.pdf', 'RG15-BFC-MDM-GRUDLER-tour1-bulletin_vote.pdf', 'RG15-CVL-VEC-FOURNIER-tour1-profession_foi.pdf', 'RG15-PACA-DLF-CHUISANO-tour1-profession_foi.pdf', 'RG15-PACA-VEG-CAMARD-tour1-profession_foi.pdf', 'RG15-IDF-DIV-HORSFALL-tour1-bulletin_vote.pdf', 'RG15-CORS-REG-BENEDETTI-tour1-profession_foi.pdf', 'RG15-CORS-FN-CANIONI-tour1-profession_foi.pdf', 'RG15-GUAD-SOC-LUREL-tour1-bulletin_vote.pdf', 'RG15-IDF-DIV-BOURCHADA-tour1-profession_foi.pdf', 'RG15-PL-FN-GANNAT-tour1-profession_foi.pdf', 'RG15-PACA-FN-MARÉCHAL-LE_PEN-tour2-bulletin_vote.pdf', 'RG15-PACA-ECO-GOVERNATORI-tour1-bulletin_vote.pdf', 'RG15-NORM-DVG-LECOEUR-tour1-profession_foi.pdf', 'RG15-BRET-UD-LE_FUR-tour2-profession_foi.pdf', 'RG15-IDF-DIV-ASSELINEAU-tour1-bulletin_vote.pdf', 'RG15-CVL-FN-LOISEAU-tour2-profession_foi.pdf', 'RG15-BFC-UG-DUFAY-tour2-bulletin_vote.pdf', 'RG15-CORS-REG-TALAMONI-tour1-profession_foi.pdf', 'RG15-NORM-AU_SERVICE-MAYER-ROSSIGNOL-tour2-bulletin_vote.pdf', 'RG15-REU-UG-BELLO-tour2-profession_foi.pdf', 'RG15-PACA-EXG-BONNET-tour1-profession_foi.pdf', 'RG15-IDF-UG-BARTOLONE-tour1-profession_foi.pdf', 'RG15-CORS-LR-ROSSI-tour1-bulletin_vote.pdf', 'RG15-GUY-DVD-ICARE_NOUREL-tour1-profession_foi.pdf', 'RG15-ARA-FN-BOUDOT-tour2-bulletin_vote.pdf', 'RG15-CVL-UD-VIGIER-tour2-bulletin_vote.pdf', 'RG15-ACAL-UG-MASSERET-tour1-bulletin_vote.pdf', 'RG15-MART-EXG-JOACHIM-ARNAUD-tour1-bulletin_vote.pdf', 'RG15-CVL-DIV-FOUQUIAU-tour1-profession_foi.pdf']\n"
     ]
    }
   ],
   "source": [
    "print(files)"
   ]
  },
  {
   "cell_type": "code",
   "execution_count": 80,
   "metadata": {},
   "outputs": [
    {
     "name": "stdout",
     "output_type": "stream",
     "text": [
      "/Users/apple/Desktop/French_election_research/ocr/RG15/RG15-ARA-UG-QUEYRANNE-tour2-profession_foi.pdf\n",
      "/Users/apple/Desktop/French_election_research/ocr/RG15/RG15-LRMP-DVG-FABRE-tour1-profession_foi.pdf\n",
      "/Users/apple/Desktop/French_election_research/ocr/RG15/RG15-ARA-DVD-LAFOND-tour1-bulletin_vote.pdf\n",
      "/Users/apple/Desktop/French_election_research/ocr/RG15/RG15-MART-LR-MONPLAISIR-tour1-bulletin_vote.pdf\n",
      "/Users/apple/Desktop/French_election_research/ocr/RG15/RG15-PL-UD-RETAILLEAU-tour1-profession_foi.pdf\n",
      "/Users/apple/Desktop/French_election_research/ocr/RG15/RG15-BFC-UD-SAUVADET-tour2-bulletin_vote.pdf\n",
      "/Users/apple/Desktop/French_election_research/ocr/RG15/RG15-MART-REG-NADEAU-tour1-bulletin_vote.pdf\n",
      "/Users/apple/Desktop/French_election_research/ocr/RG15/RG15-PACA-UD-ESTROSI-tour1-profession_foi.pdf\n",
      "/Users/apple/Desktop/French_election_research/ocr/RG15/RG15-GUY-REG-LÉTARD-tour1-profession_foi.pdf\n",
      "/Users/apple/Desktop/French_election_research/ocr/RG15/RG15-GUAD-DVD-SEYMOUR-tour1-bulletin_vote.pdf\n",
      "/Users/apple/Desktop/French_election_research/ocr/RG15/RG15-PL-EXG-TERRIEN-tour1-profession_foi.pdf\n",
      "/Users/apple/Desktop/French_election_research/ocr/RG15/RG15-IDF-LA_GAUCHE_-BARTOLONE-tour2-bulletin_vote.pdf\n",
      "/Users/apple/Desktop/French_election_research/ocr/RG15/RG15-ALPC-UG-ROUSSET-tour1-bulletin_vote.pdf\n",
      "/Users/apple/Desktop/French_election_research/ocr/RG15/RG15-MART-REG-NADEAU-tour1-profession_foi.pdf\n",
      "/Users/apple/Desktop/French_election_research/ocr/RG15/RG15-BFC-FN-MONTEL-tour1-profession_foi.pdf\n",
      "/Users/apple/Desktop/French_election_research/ocr/RG15/RG15-REU-DVG-LEBRETON-tour1-profession_foi.pdf\n",
      "/Users/apple/Desktop/French_election_research/ocr/RG15/RG15-BFC-UD-SAUVADET-tour1-profession_foi.pdf\n",
      "/Users/apple/Desktop/French_election_research/ocr/RG15/RG15-IDF-VEC-COSSE-tour1-bulletin_vote.pdf\n",
      "/Users/apple/Desktop/French_election_research/ocr/RG15/RG15-NPCP-FN-LE_PEN-tour2-profession_foi.pdf\n",
      "/Users/apple/Desktop/French_election_research/ocr/RG15/RG15-BRET-FN-PENNELLE-tour2-profession_foi.pdf\n",
      "/Users/apple/Desktop/French_election_research/ocr/RG15/RG15-LRMP-DVG-SAUREL-tour1-bulletin_vote.pdf\n",
      "/Users/apple/Desktop/French_election_research/ocr/RG15/RG15-BFC-FN-MONTEL-tour2-bulletin_vote.pdf\n",
      "/Users/apple/Desktop/French_election_research/ocr/RG15/RG15-IDF-DLF-DUPONT-AIGNAN-tour1-bulletin_vote.pdf\n",
      "/Users/apple/Desktop/French_election_research/ocr/RG15/RG15-GUAD-COM-CADOCE-tour1-profession_foi.pdf\n",
      "/Users/apple/Desktop/French_election_research/ocr/RG15/RG15-CVL-UG-BONNEAU-tour1-bulletin_vote.pdf\n",
      "/Users/apple/Desktop/French_election_research/ocr/RG15/RG15-PACA-EXD-BOMPARD-tour1-bulletin_vote.pdf\n",
      "/Users/apple/Desktop/French_election_research/ocr/RG15/RG15-PL-EXG-LE_BELLER-tour1-profession_foi.pdf\n",
      "/Users/apple/Desktop/French_election_research/ocr/RG15/RG15-LRMP-FN-ALIOT-tour1-profession_foi.pdf\n",
      "/Users/apple/Desktop/French_election_research/ocr/RG15/RG15-IDF-DVD-VERON-tour1-bulletin_vote.pdf\n",
      "/Users/apple/Desktop/French_election_research/ocr/RG15/RG15-CORS-DVG-GIACOBBI-tour1-bulletin_vote.pdf\n",
      "/Users/apple/Desktop/French_election_research/ocr/RG15/RG15-CORS-FN-CANIONI-tour2-bulletin_vote.pdf\n",
      "/Users/apple/Desktop/French_election_research/ocr/RG15/RG15-ALPC-FG-DARTIGOLLES-tour1-bulletin_vote.pdf\n",
      "/Users/apple/Desktop/French_election_research/ocr/RG15/RG15-BRET-UG-LE_DRIAN-tour1-profession_foi.pdf\n",
      "/Users/apple/Desktop/French_election_research/ocr/RG15/RG15-IDF-UD-PECRESSE-tour2-bulletin_vote.pdf\n",
      "/Users/apple/Desktop/French_election_research/ocr/RG15/RG15-GUAD-LR-BERNIER-tour1-profession_foi.pdf\n",
      "/Users/apple/Desktop/French_election_research/ocr/RG15/RG15-GUAD-DVG-CHALUS-tour2-bulletin_vote.pdf\n",
      "/Users/apple/Desktop/French_election_research/ocr/RG15/RG15-CORS-DLF-SANTONI-tour1-bulletin_vote.pdf\n",
      "/Users/apple/Desktop/French_election_research/ocr/RG15/RG15-ARA-UD-WAUQUIEZ-tour2-bulletin_vote.pdf\n",
      "/Users/apple/Desktop/French_election_research/ocr/RG15/RG15-PACA-EXD-BOMPARD-tour1-profession_foi.pdf\n"
     ]
    },
    {
     "ename": "DelegateError",
     "evalue": "FailedToExecuteCommand `'gs' -sstdout=%stderr -dQUIET -dSAFER -dBATCH -dNOPAUSE -dNOPROMPT -dMaxBitmap=500000000 -dAlignToPixels=0 -dGridFitTT=2 '-sDEVICE=pngalpha' -dTextAlphaBits=4 -dGraphicsAlphaBits=4 '-r300x300'  '-sOutputFile=/var/folders/wt/49v7jc9s39g8zfbv58xfwmrr0000gn/T/magick-37772ozM50mDPDrII%d' '-f/var/folders/wt/49v7jc9s39g8zfbv58xfwmrr0000gn/T/magick-3777245moC91mbWPq' '-f/var/folders/wt/49v7jc9s39g8zfbv58xfwmrr0000gn/T/magick-37772kJRwIzq38UGR'' (1) @ error/pdf.c/InvokePDFDelegate/290",
     "output_type": "error",
     "traceback": [
      "\u001b[0;31m---------------------------------------------------------------------------\u001b[0m",
      "\u001b[0;31mDelegateError\u001b[0m                             Traceback (most recent call last)",
      "\u001b[0;32m<ipython-input-80-908c1dfae2cb>\u001b[0m in \u001b[0;36m<module>\u001b[0;34m()\u001b[0m\n\u001b[1;32m     10\u001b[0m     \u001b[0mfinal_text\u001b[0m \u001b[0;34m=\u001b[0m \u001b[0;34m[\u001b[0m\u001b[0;34m]\u001b[0m\u001b[0;34m\u001b[0m\u001b[0m\n\u001b[1;32m     11\u001b[0m \u001b[0;34m\u001b[0m\u001b[0m\n\u001b[0;32m---> 12\u001b[0;31m     \u001b[0mimage_pdf\u001b[0m \u001b[0;34m=\u001b[0m \u001b[0mImage\u001b[0m\u001b[0;34m(\u001b[0m\u001b[0mfilename\u001b[0m\u001b[0;34m=\u001b[0m \u001b[0mpath\u001b[0m \u001b[0;34m+\u001b[0m \u001b[0mfile\u001b[0m\u001b[0;34m,\u001b[0m \u001b[0mresolution\u001b[0m\u001b[0;34m=\u001b[0m\u001b[0;36m300\u001b[0m\u001b[0;34m)\u001b[0m\u001b[0;34m\u001b[0m\u001b[0m\n\u001b[0m\u001b[1;32m     13\u001b[0m     \u001b[0mimage_jpeg\u001b[0m \u001b[0;34m=\u001b[0m \u001b[0mimage_pdf\u001b[0m\u001b[0;34m.\u001b[0m\u001b[0mconvert\u001b[0m\u001b[0;34m(\u001b[0m\u001b[0;34m'jpeg'\u001b[0m\u001b[0;34m)\u001b[0m\u001b[0;34m\u001b[0m\u001b[0m\n\u001b[1;32m     14\u001b[0m \u001b[0;34m\u001b[0m\u001b[0m\n",
      "\u001b[0;32m/anaconda3/lib/python3.6/site-packages/wand/image.py\u001b[0m in \u001b[0;36m__init__\u001b[0;34m(self, image, blob, file, filename, format, width, height, depth, background, resolution, pseudo)\u001b[0m\n\u001b[1;32m   4603\u001b[0m                     \u001b[0mself\u001b[0m\u001b[0;34m.\u001b[0m\u001b[0mread\u001b[0m\u001b[0;34m(\u001b[0m\u001b[0mblob\u001b[0m\u001b[0;34m=\u001b[0m\u001b[0mblob\u001b[0m\u001b[0;34m,\u001b[0m \u001b[0mresolution\u001b[0m\u001b[0;34m=\u001b[0m\u001b[0mresolution\u001b[0m\u001b[0;34m)\u001b[0m\u001b[0;34m\u001b[0m\u001b[0m\n\u001b[1;32m   4604\u001b[0m                 \u001b[0;32melif\u001b[0m \u001b[0mfilename\u001b[0m \u001b[0;32mis\u001b[0m \u001b[0;32mnot\u001b[0m \u001b[0;32mNone\u001b[0m\u001b[0;34m:\u001b[0m\u001b[0;34m\u001b[0m\u001b[0m\n\u001b[0;32m-> 4605\u001b[0;31m                     \u001b[0mself\u001b[0m\u001b[0;34m.\u001b[0m\u001b[0mread\u001b[0m\u001b[0;34m(\u001b[0m\u001b[0mfilename\u001b[0m\u001b[0;34m=\u001b[0m\u001b[0mfilename\u001b[0m\u001b[0;34m,\u001b[0m \u001b[0mresolution\u001b[0m\u001b[0;34m=\u001b[0m\u001b[0mresolution\u001b[0m\u001b[0;34m)\u001b[0m\u001b[0;34m\u001b[0m\u001b[0m\n\u001b[0m\u001b[1;32m   4606\u001b[0m                 \u001b[0;31m# clear the wand format, otherwise any subsequent call to\u001b[0m\u001b[0;34m\u001b[0m\u001b[0;34m\u001b[0m\u001b[0m\n\u001b[1;32m   4607\u001b[0m                 \u001b[0;31m# MagickGetImageBlob will silently change the image to this\u001b[0m\u001b[0;34m\u001b[0m\u001b[0;34m\u001b[0m\u001b[0m\n",
      "\u001b[0;32m/anaconda3/lib/python3.6/site-packages/wand/image.py\u001b[0m in \u001b[0;36mread\u001b[0;34m(self, file, filename, blob, resolution)\u001b[0m\n\u001b[1;32m   4894\u001b[0m             \u001b[0mr\u001b[0m \u001b[0;34m=\u001b[0m \u001b[0mlibrary\u001b[0m\u001b[0;34m.\u001b[0m\u001b[0mMagickReadImage\u001b[0m\u001b[0;34m(\u001b[0m\u001b[0mself\u001b[0m\u001b[0;34m.\u001b[0m\u001b[0mwand\u001b[0m\u001b[0;34m,\u001b[0m \u001b[0mfilename\u001b[0m\u001b[0;34m)\u001b[0m\u001b[0;34m\u001b[0m\u001b[0m\n\u001b[1;32m   4895\u001b[0m         \u001b[0;32mif\u001b[0m \u001b[0;32mnot\u001b[0m \u001b[0mr\u001b[0m\u001b[0;34m:\u001b[0m\u001b[0;34m\u001b[0m\u001b[0m\n\u001b[0;32m-> 4896\u001b[0;31m             \u001b[0mself\u001b[0m\u001b[0;34m.\u001b[0m\u001b[0mraise_exception\u001b[0m\u001b[0;34m(\u001b[0m\u001b[0;34m)\u001b[0m\u001b[0;34m\u001b[0m\u001b[0m\n\u001b[0m\u001b[1;32m   4897\u001b[0m \u001b[0;34m\u001b[0m\u001b[0m\n\u001b[1;32m   4898\u001b[0m     \u001b[0;32mdef\u001b[0m \u001b[0msave\u001b[0m\u001b[0;34m(\u001b[0m\u001b[0mself\u001b[0m\u001b[0;34m,\u001b[0m \u001b[0mfile\u001b[0m\u001b[0;34m=\u001b[0m\u001b[0;32mNone\u001b[0m\u001b[0;34m,\u001b[0m \u001b[0mfilename\u001b[0m\u001b[0;34m=\u001b[0m\u001b[0;32mNone\u001b[0m\u001b[0;34m)\u001b[0m\u001b[0;34m:\u001b[0m\u001b[0;34m\u001b[0m\u001b[0m\n",
      "\u001b[0;32m/anaconda3/lib/python3.6/site-packages/wand/resource.py\u001b[0m in \u001b[0;36mraise_exception\u001b[0;34m(self, stacklevel)\u001b[0m\n\u001b[1;32m    220\u001b[0m             \u001b[0mwarnings\u001b[0m\u001b[0;34m.\u001b[0m\u001b[0mwarn\u001b[0m\u001b[0;34m(\u001b[0m\u001b[0me\u001b[0m\u001b[0;34m,\u001b[0m \u001b[0mstacklevel\u001b[0m\u001b[0;34m=\u001b[0m\u001b[0mstacklevel\u001b[0m \u001b[0;34m+\u001b[0m \u001b[0;36m1\u001b[0m\u001b[0;34m)\u001b[0m\u001b[0;34m\u001b[0m\u001b[0m\n\u001b[1;32m    221\u001b[0m         \u001b[0;32melif\u001b[0m \u001b[0misinstance\u001b[0m\u001b[0;34m(\u001b[0m\u001b[0me\u001b[0m\u001b[0;34m,\u001b[0m \u001b[0mException\u001b[0m\u001b[0;34m)\u001b[0m\u001b[0;34m:\u001b[0m\u001b[0;34m\u001b[0m\u001b[0m\n\u001b[0;32m--> 222\u001b[0;31m             \u001b[0;32mraise\u001b[0m \u001b[0me\u001b[0m\u001b[0;34m\u001b[0m\u001b[0m\n\u001b[0m\u001b[1;32m    223\u001b[0m \u001b[0;34m\u001b[0m\u001b[0m\n\u001b[1;32m    224\u001b[0m     \u001b[0;32mdef\u001b[0m \u001b[0m__enter__\u001b[0m\u001b[0;34m(\u001b[0m\u001b[0mself\u001b[0m\u001b[0;34m)\u001b[0m\u001b[0;34m:\u001b[0m\u001b[0;34m\u001b[0m\u001b[0m\n",
      "\u001b[0;31mDelegateError\u001b[0m: FailedToExecuteCommand `'gs' -sstdout=%stderr -dQUIET -dSAFER -dBATCH -dNOPAUSE -dNOPROMPT -dMaxBitmap=500000000 -dAlignToPixels=0 -dGridFitTT=2 '-sDEVICE=pngalpha' -dTextAlphaBits=4 -dGraphicsAlphaBits=4 '-r300x300'  '-sOutputFile=/var/folders/wt/49v7jc9s39g8zfbv58xfwmrr0000gn/T/magick-37772ozM50mDPDrII%d' '-f/var/folders/wt/49v7jc9s39g8zfbv58xfwmrr0000gn/T/magick-3777245moC91mbWPq' '-f/var/folders/wt/49v7jc9s39g8zfbv58xfwmrr0000gn/T/magick-37772kJRwIzq38UGR'' (1) @ error/pdf.c/InvokePDFDelegate/290"
     ]
    }
   ],
   "source": [
    "import numpy as np\n",
    "import os\n",
    "path = \"./RG15/\" \n",
    "files= os.listdir(path) \n",
    "for file in files:\n",
    "    print(path+file)\n",
    "    \n",
    "    req_image = []\n",
    "    final_text = []\n",
    "\n",
    "    image_pdf = Image(filename= path + file, resolution=300)\n",
    "    image_jpeg = image_pdf.convert('jpeg')\n",
    "\n",
    "    for img in image_jpeg.sequence:\n",
    "        img_page = Image(image=img)\n",
    "        req_image.append(img_page.make_blob('jpeg'))\n",
    "\n",
    "\n",
    "    for img in req_image: \n",
    "        txt = tool.image_to_string(\n",
    "            PI.open(io.BytesIO(img)),\n",
    "            lang=lang,\n",
    "            builder=pyocr.builders.TextBuilder()\n",
    "        )\n",
    "        final_text.append(txt) \n",
    "   \n",
    "    with open('./output/'+ file[:len(file)-4]+'.txt' , 'w+') as f:\n",
    "        for item in final_text:\n",
    "            f.write(\"%s\\n\" % item)"
   ]
  }
 ],
 "metadata": {
  "kernelspec": {
   "display_name": "Python 3",
   "language": "python",
   "name": "python3"
  },
  "language_info": {
   "codemirror_mode": {
    "name": "ipython",
    "version": 3
   },
   "file_extension": ".py",
   "mimetype": "text/x-python",
   "name": "python",
   "nbconvert_exporter": "python",
   "pygments_lexer": "ipython3",
   "version": "3.6.5"
  }
 },
 "nbformat": 4,
 "nbformat_minor": 2
}
