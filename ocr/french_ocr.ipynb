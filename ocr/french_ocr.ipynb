{
 "cells": [
  {
   "cell_type": "code",
   "execution_count": 1,
   "metadata": {},
   "outputs": [
    {
     "name": "stdout",
     "output_type": "stream",
     "text": [
      "Will use tool 'Tesseract (sh)'\n",
      "Available languages: afr, amh, ara, asm, aze, aze_cyrl, bel, ben, bod, bos, bre, bul, cat, ceb, ces, chi_sim, chi_sim_vert, chi_tra, chi_tra_vert, chr, cos, cym, dan, deu, div, dzo, ell, eng, enm, epo, est, eus, fao, fas, fil, fin, fra, frk, frm, fry, gla, gle, glg, grc, guj, hat, heb, hin, hrv, hun, hye, iku, ind, isl, ita, ita_old, jav, jpn, jpn_vert, kan, kat, kat_old, kaz, khm, kir, kmr, kor, kor_vert, lao, lat, lav, lit, ltz, mal, mar, mkd, mlt, mon, mri, msa, mya, nep, nld, nor, oci, ori, osd, pan, pol, por, pus, que, ron, rus, san, script/Arabic, script/Armenian, script/Bengali, script/Canadian_Aboriginal, script/Cherokee, script/Cyrillic, script/Devanagari, script/Ethiopic, script/Fraktur, script/Georgian, script/Greek, script/Gujarati, script/Gurmukhi, script/HanS, script/HanS_vert, script/HanT, script/HanT_vert, script/Hangul, script/Hangul_vert, script/Hebrew, script/Japanese, script/Japanese_vert, script/Kannada, script/Khmer, script/Lao, script/Latin, script/Malayalam, script/Myanmar, script/Oriya, script/Sinhala, script/Syriac, script/Tamil, script/Telugu, script/Thaana, script/Thai, script/Tibetan, script/Vietnamese, sin, slk, slv, snd, snum, spa, spa_old, sqi, srp, srp_latn, sun, swa, swe, syr, tam, tat, tel, tgk, tha, tir, ton, tur, uig, ukr, urd, uzb, uzb_cyrl, vie, yid, yor\n",
      "Will use lang 'afr'\n"
     ]
    }
   ],
   "source": [
    "from PIL import Image\n",
    "import sys\n",
    "\n",
    "import pyocr\n",
    "import pyocr.builders\n",
    "\n",
    "tools = pyocr.get_available_tools()\n",
    "if len(tools) == 0:\n",
    "    print(\"No OCR tool found\")\n",
    "    sys.exit(1)\n",
    "# The tools are returned in the recommended order of usage\n",
    "tool = tools[0]\n",
    "print(\"Will use tool '%s'\" % (tool.get_name()))\n",
    "# Ex: Will use tool 'libtesseract'\n",
    "\n",
    "langs = tool.get_available_languages()\n",
    "print(\"Available languages: %s\" % \", \".join(langs))\n",
    "lang = langs[0]\n",
    "print(\"Will use lang '%s'\" % (lang))\n",
    "# Ex: Will use lang 'fra'\n",
    "# Note that languages are NOT sorted in any way. Please refer\n",
    "# to the system locale settings for the default language\n",
    "# to use.\n"
   ]
  },
  {
   "cell_type": "code",
   "execution_count": 3,
   "metadata": {},
   "outputs": [
    {
     "data": {
      "text/plain": [
       "'/Users/apple/Desktop/French_election_research/ocr'"
      ]
     },
     "execution_count": 3,
     "metadata": {},
     "output_type": "execute_result"
    }
   ],
   "source": [
    "pwd"
   ]
  },
  {
   "cell_type": "code",
   "execution_count": 55,
   "metadata": {},
   "outputs": [],
   "source": [
    "from wand.image import Image\n",
    "from PIL import Image as PI\n",
    "import pyocr\n",
    "import pyocr.builders\n",
    "import io"
   ]
  },
  {
   "cell_type": "code",
   "execution_count": 56,
   "metadata": {},
   "outputs": [],
   "source": [
    "lang = 'fra'"
   ]
  },
  {
   "cell_type": "code",
   "execution_count": 57,
   "metadata": {},
   "outputs": [
    {
     "data": {
      "text/plain": [
       "'fra'"
      ]
     },
     "execution_count": 57,
     "metadata": {},
     "output_type": "execute_result"
    }
   ],
   "source": [
    "lang"
   ]
  },
  {
   "cell_type": "code",
   "execution_count": 80,
   "metadata": {},
   "outputs": [
    {
     "name": "stdout",
     "output_type": "stream",
     "text": [
      "/Users/apple/Desktop/French_election_research/ocr/RG15/RG15-ARA-UG-QUEYRANNE-tour2-profession_foi.pdf\n",
      "/Users/apple/Desktop/French_election_research/ocr/RG15/RG15-LRMP-DVG-FABRE-tour1-profession_foi.pdf\n",
      "/Users/apple/Desktop/French_election_research/ocr/RG15/RG15-ARA-DVD-LAFOND-tour1-bulletin_vote.pdf\n",
      "/Users/apple/Desktop/French_election_research/ocr/RG15/RG15-MART-LR-MONPLAISIR-tour1-bulletin_vote.pdf\n",
      "/Users/apple/Desktop/French_election_research/ocr/RG15/RG15-PL-UD-RETAILLEAU-tour1-profession_foi.pdf\n",
      "/Users/apple/Desktop/French_election_research/ocr/RG15/RG15-BFC-UD-SAUVADET-tour2-bulletin_vote.pdf\n",
      "/Users/apple/Desktop/French_election_research/ocr/RG15/RG15-MART-REG-NADEAU-tour1-bulletin_vote.pdf\n",
      "/Users/apple/Desktop/French_election_research/ocr/RG15/RG15-PACA-UD-ESTROSI-tour1-profession_foi.pdf\n",
      "/Users/apple/Desktop/French_election_research/ocr/RG15/RG15-GUY-REG-LÉTARD-tour1-profession_foi.pdf\n",
      "/Users/apple/Desktop/French_election_research/ocr/RG15/RG15-GUAD-DVD-SEYMOUR-tour1-bulletin_vote.pdf\n",
      "/Users/apple/Desktop/French_election_research/ocr/RG15/RG15-PL-EXG-TERRIEN-tour1-profession_foi.pdf\n",
      "/Users/apple/Desktop/French_election_research/ocr/RG15/RG15-IDF-LA_GAUCHE_-BARTOLONE-tour2-bulletin_vote.pdf\n",
      "/Users/apple/Desktop/French_election_research/ocr/RG15/RG15-ALPC-UG-ROUSSET-tour1-bulletin_vote.pdf\n",
      "/Users/apple/Desktop/French_election_research/ocr/RG15/RG15-MART-REG-NADEAU-tour1-profession_foi.pdf\n",
      "/Users/apple/Desktop/French_election_research/ocr/RG15/RG15-BFC-FN-MONTEL-tour1-profession_foi.pdf\n",
      "/Users/apple/Desktop/French_election_research/ocr/RG15/RG15-REU-DVG-LEBRETON-tour1-profession_foi.pdf\n",
      "/Users/apple/Desktop/French_election_research/ocr/RG15/RG15-BFC-UD-SAUVADET-tour1-profession_foi.pdf\n",
      "/Users/apple/Desktop/French_election_research/ocr/RG15/RG15-IDF-VEC-COSSE-tour1-bulletin_vote.pdf\n",
      "/Users/apple/Desktop/French_election_research/ocr/RG15/RG15-NPCP-FN-LE_PEN-tour2-profession_foi.pdf\n",
      "/Users/apple/Desktop/French_election_research/ocr/RG15/RG15-BRET-FN-PENNELLE-tour2-profession_foi.pdf\n",
      "/Users/apple/Desktop/French_election_research/ocr/RG15/RG15-LRMP-DVG-SAUREL-tour1-bulletin_vote.pdf\n",
      "/Users/apple/Desktop/French_election_research/ocr/RG15/RG15-BFC-FN-MONTEL-tour2-bulletin_vote.pdf\n",
      "/Users/apple/Desktop/French_election_research/ocr/RG15/RG15-IDF-DLF-DUPONT-AIGNAN-tour1-bulletin_vote.pdf\n",
      "/Users/apple/Desktop/French_election_research/ocr/RG15/RG15-GUAD-COM-CADOCE-tour1-profession_foi.pdf\n",
      "/Users/apple/Desktop/French_election_research/ocr/RG15/RG15-CVL-UG-BONNEAU-tour1-bulletin_vote.pdf\n",
      "/Users/apple/Desktop/French_election_research/ocr/RG15/RG15-PACA-EXD-BOMPARD-tour1-bulletin_vote.pdf\n",
      "/Users/apple/Desktop/French_election_research/ocr/RG15/RG15-PL-EXG-LE_BELLER-tour1-profession_foi.pdf\n",
      "/Users/apple/Desktop/French_election_research/ocr/RG15/RG15-LRMP-FN-ALIOT-tour1-profession_foi.pdf\n",
      "/Users/apple/Desktop/French_election_research/ocr/RG15/RG15-IDF-DVD-VERON-tour1-bulletin_vote.pdf\n",
      "/Users/apple/Desktop/French_election_research/ocr/RG15/RG15-CORS-DVG-GIACOBBI-tour1-bulletin_vote.pdf\n",
      "/Users/apple/Desktop/French_election_research/ocr/RG15/RG15-CORS-FN-CANIONI-tour2-bulletin_vote.pdf\n",
      "/Users/apple/Desktop/French_election_research/ocr/RG15/RG15-ALPC-FG-DARTIGOLLES-tour1-bulletin_vote.pdf\n",
      "/Users/apple/Desktop/French_election_research/ocr/RG15/RG15-BRET-UG-LE_DRIAN-tour1-profession_foi.pdf\n",
      "/Users/apple/Desktop/French_election_research/ocr/RG15/RG15-IDF-UD-PECRESSE-tour2-bulletin_vote.pdf\n",
      "/Users/apple/Desktop/French_election_research/ocr/RG15/RG15-GUAD-LR-BERNIER-tour1-profession_foi.pdf\n",
      "/Users/apple/Desktop/French_election_research/ocr/RG15/RG15-GUAD-DVG-CHALUS-tour2-bulletin_vote.pdf\n",
      "/Users/apple/Desktop/French_election_research/ocr/RG15/RG15-CORS-DLF-SANTONI-tour1-bulletin_vote.pdf\n",
      "/Users/apple/Desktop/French_election_research/ocr/RG15/RG15-ARA-UD-WAUQUIEZ-tour2-bulletin_vote.pdf\n",
      "/Users/apple/Desktop/French_election_research/ocr/RG15/RG15-PACA-EXD-BOMPARD-tour1-profession_foi.pdf\n"
     ]
    },
    {
     "ename": "DelegateError",
     "evalue": "FailedToExecuteCommand `'gs' -sstdout=%stderr -dQUIET -dSAFER -dBATCH -dNOPAUSE -dNOPROMPT -dMaxBitmap=500000000 -dAlignToPixels=0 -dGridFitTT=2 '-sDEVICE=pngalpha' -dTextAlphaBits=4 -dGraphicsAlphaBits=4 '-r300x300'  '-sOutputFile=/var/folders/wt/49v7jc9s39g8zfbv58xfwmrr0000gn/T/magick-37772ozM50mDPDrII%d' '-f/var/folders/wt/49v7jc9s39g8zfbv58xfwmrr0000gn/T/magick-3777245moC91mbWPq' '-f/var/folders/wt/49v7jc9s39g8zfbv58xfwmrr0000gn/T/magick-37772kJRwIzq38UGR'' (1) @ error/pdf.c/InvokePDFDelegate/290",
     "output_type": "error",
     "traceback": [
      "\u001b[0;31m---------------------------------------------------------------------------\u001b[0m",
      "\u001b[0;31mDelegateError\u001b[0m                             Traceback (most recent call last)",
      "\u001b[0;32m<ipython-input-80-908c1dfae2cb>\u001b[0m in \u001b[0;36m<module>\u001b[0;34m()\u001b[0m\n\u001b[1;32m     10\u001b[0m     \u001b[0mfinal_text\u001b[0m \u001b[0;34m=\u001b[0m \u001b[0;34m[\u001b[0m\u001b[0;34m]\u001b[0m\u001b[0;34m\u001b[0m\u001b[0m\n\u001b[1;32m     11\u001b[0m \u001b[0;34m\u001b[0m\u001b[0m\n\u001b[0;32m---> 12\u001b[0;31m     \u001b[0mimage_pdf\u001b[0m \u001b[0;34m=\u001b[0m \u001b[0mImage\u001b[0m\u001b[0;34m(\u001b[0m\u001b[0mfilename\u001b[0m\u001b[0;34m=\u001b[0m \u001b[0mpath\u001b[0m \u001b[0;34m+\u001b[0m \u001b[0mfile\u001b[0m\u001b[0;34m,\u001b[0m \u001b[0mresolution\u001b[0m\u001b[0;34m=\u001b[0m\u001b[0;36m300\u001b[0m\u001b[0;34m)\u001b[0m\u001b[0;34m\u001b[0m\u001b[0m\n\u001b[0m\u001b[1;32m     13\u001b[0m     \u001b[0mimage_jpeg\u001b[0m \u001b[0;34m=\u001b[0m \u001b[0mimage_pdf\u001b[0m\u001b[0;34m.\u001b[0m\u001b[0mconvert\u001b[0m\u001b[0;34m(\u001b[0m\u001b[0;34m'jpeg'\u001b[0m\u001b[0;34m)\u001b[0m\u001b[0;34m\u001b[0m\u001b[0m\n\u001b[1;32m     14\u001b[0m \u001b[0;34m\u001b[0m\u001b[0m\n",
      "\u001b[0;32m/anaconda3/lib/python3.6/site-packages/wand/image.py\u001b[0m in \u001b[0;36m__init__\u001b[0;34m(self, image, blob, file, filename, format, width, height, depth, background, resolution, pseudo)\u001b[0m\n\u001b[1;32m   4603\u001b[0m                     \u001b[0mself\u001b[0m\u001b[0;34m.\u001b[0m\u001b[0mread\u001b[0m\u001b[0;34m(\u001b[0m\u001b[0mblob\u001b[0m\u001b[0;34m=\u001b[0m\u001b[0mblob\u001b[0m\u001b[0;34m,\u001b[0m \u001b[0mresolution\u001b[0m\u001b[0;34m=\u001b[0m\u001b[0mresolution\u001b[0m\u001b[0;34m)\u001b[0m\u001b[0;34m\u001b[0m\u001b[0m\n\u001b[1;32m   4604\u001b[0m                 \u001b[0;32melif\u001b[0m \u001b[0mfilename\u001b[0m \u001b[0;32mis\u001b[0m \u001b[0;32mnot\u001b[0m \u001b[0;32mNone\u001b[0m\u001b[0;34m:\u001b[0m\u001b[0;34m\u001b[0m\u001b[0m\n\u001b[0;32m-> 4605\u001b[0;31m                     \u001b[0mself\u001b[0m\u001b[0;34m.\u001b[0m\u001b[0mread\u001b[0m\u001b[0;34m(\u001b[0m\u001b[0mfilename\u001b[0m\u001b[0;34m=\u001b[0m\u001b[0mfilename\u001b[0m\u001b[0;34m,\u001b[0m \u001b[0mresolution\u001b[0m\u001b[0;34m=\u001b[0m\u001b[0mresolution\u001b[0m\u001b[0;34m)\u001b[0m\u001b[0;34m\u001b[0m\u001b[0m\n\u001b[0m\u001b[1;32m   4606\u001b[0m                 \u001b[0;31m# clear the wand format, otherwise any subsequent call to\u001b[0m\u001b[0;34m\u001b[0m\u001b[0;34m\u001b[0m\u001b[0m\n\u001b[1;32m   4607\u001b[0m                 \u001b[0;31m# MagickGetImageBlob will silently change the image to this\u001b[0m\u001b[0;34m\u001b[0m\u001b[0;34m\u001b[0m\u001b[0m\n",
      "\u001b[0;32m/anaconda3/lib/python3.6/site-packages/wand/image.py\u001b[0m in \u001b[0;36mread\u001b[0;34m(self, file, filename, blob, resolution)\u001b[0m\n\u001b[1;32m   4894\u001b[0m             \u001b[0mr\u001b[0m \u001b[0;34m=\u001b[0m \u001b[0mlibrary\u001b[0m\u001b[0;34m.\u001b[0m\u001b[0mMagickReadImage\u001b[0m\u001b[0;34m(\u001b[0m\u001b[0mself\u001b[0m\u001b[0;34m.\u001b[0m\u001b[0mwand\u001b[0m\u001b[0;34m,\u001b[0m \u001b[0mfilename\u001b[0m\u001b[0;34m)\u001b[0m\u001b[0;34m\u001b[0m\u001b[0m\n\u001b[1;32m   4895\u001b[0m         \u001b[0;32mif\u001b[0m \u001b[0;32mnot\u001b[0m \u001b[0mr\u001b[0m\u001b[0;34m:\u001b[0m\u001b[0;34m\u001b[0m\u001b[0m\n\u001b[0;32m-> 4896\u001b[0;31m             \u001b[0mself\u001b[0m\u001b[0;34m.\u001b[0m\u001b[0mraise_exception\u001b[0m\u001b[0;34m(\u001b[0m\u001b[0;34m)\u001b[0m\u001b[0;34m\u001b[0m\u001b[0m\n\u001b[0m\u001b[1;32m   4897\u001b[0m \u001b[0;34m\u001b[0m\u001b[0m\n\u001b[1;32m   4898\u001b[0m     \u001b[0;32mdef\u001b[0m \u001b[0msave\u001b[0m\u001b[0;34m(\u001b[0m\u001b[0mself\u001b[0m\u001b[0;34m,\u001b[0m \u001b[0mfile\u001b[0m\u001b[0;34m=\u001b[0m\u001b[0;32mNone\u001b[0m\u001b[0;34m,\u001b[0m \u001b[0mfilename\u001b[0m\u001b[0;34m=\u001b[0m\u001b[0;32mNone\u001b[0m\u001b[0;34m)\u001b[0m\u001b[0;34m:\u001b[0m\u001b[0;34m\u001b[0m\u001b[0m\n",
      "\u001b[0;32m/anaconda3/lib/python3.6/site-packages/wand/resource.py\u001b[0m in \u001b[0;36mraise_exception\u001b[0;34m(self, stacklevel)\u001b[0m\n\u001b[1;32m    220\u001b[0m             \u001b[0mwarnings\u001b[0m\u001b[0;34m.\u001b[0m\u001b[0mwarn\u001b[0m\u001b[0;34m(\u001b[0m\u001b[0me\u001b[0m\u001b[0;34m,\u001b[0m \u001b[0mstacklevel\u001b[0m\u001b[0;34m=\u001b[0m\u001b[0mstacklevel\u001b[0m \u001b[0;34m+\u001b[0m \u001b[0;36m1\u001b[0m\u001b[0;34m)\u001b[0m\u001b[0;34m\u001b[0m\u001b[0m\n\u001b[1;32m    221\u001b[0m         \u001b[0;32melif\u001b[0m \u001b[0misinstance\u001b[0m\u001b[0;34m(\u001b[0m\u001b[0me\u001b[0m\u001b[0;34m,\u001b[0m \u001b[0mException\u001b[0m\u001b[0;34m)\u001b[0m\u001b[0;34m:\u001b[0m\u001b[0;34m\u001b[0m\u001b[0m\n\u001b[0;32m--> 222\u001b[0;31m             \u001b[0;32mraise\u001b[0m \u001b[0me\u001b[0m\u001b[0;34m\u001b[0m\u001b[0m\n\u001b[0m\u001b[1;32m    223\u001b[0m \u001b[0;34m\u001b[0m\u001b[0m\n\u001b[1;32m    224\u001b[0m     \u001b[0;32mdef\u001b[0m \u001b[0m__enter__\u001b[0m\u001b[0;34m(\u001b[0m\u001b[0mself\u001b[0m\u001b[0;34m)\u001b[0m\u001b[0;34m:\u001b[0m\u001b[0;34m\u001b[0m\u001b[0m\n",
      "\u001b[0;31mDelegateError\u001b[0m: FailedToExecuteCommand `'gs' -sstdout=%stderr -dQUIET -dSAFER -dBATCH -dNOPAUSE -dNOPROMPT -dMaxBitmap=500000000 -dAlignToPixels=0 -dGridFitTT=2 '-sDEVICE=pngalpha' -dTextAlphaBits=4 -dGraphicsAlphaBits=4 '-r300x300'  '-sOutputFile=/var/folders/wt/49v7jc9s39g8zfbv58xfwmrr0000gn/T/magick-37772ozM50mDPDrII%d' '-f/var/folders/wt/49v7jc9s39g8zfbv58xfwmrr0000gn/T/magick-3777245moC91mbWPq' '-f/var/folders/wt/49v7jc9s39g8zfbv58xfwmrr0000gn/T/magick-37772kJRwIzq38UGR'' (1) @ error/pdf.c/InvokePDFDelegate/290"
     ]
    }
   ],
   "source": [
    "import numpy as np\n",
    "import os\n",
    "path = \"./RG15/\" \n",
    "files= os.listdir(path) \n",
    "for file in files:\n",
    "    print(path+file)\n",
    "    \n",
    "    req_image = []\n",
    "    final_text = []\n",
    "\n",
    "    image_pdf = Image(filename= path + file, resolution=300)\n",
    "    image_jpeg = image_pdf.convert('jpeg')\n",
    "\n",
    "    for img in image_jpeg.sequence:\n",
    "        img_page = Image(image=img)\n",
    "        req_image.append(img_page.make_blob('jpeg'))\n",
    "\n",
    "\n",
    "    for img in req_image: \n",
    "        txt = tool.image_to_string(\n",
    "            PI.open(io.BytesIO(img)),\n",
    "            lang=lang,\n",
    "            builder=pyocr.builders.TextBuilder()\n",
    "        )\n",
    "        final_text.append(txt) \n",
    "   \n",
    "    with open('./output/'+ file[:len(file)-4]+'.txt' , 'w+') as f:\n",
    "        for item in final_text:\n",
    "            f.write(\"%s\\n\" % item)"
   ]
  }
 ],
 "metadata": {
  "kernelspec": {
   "display_name": "Python 3",
   "language": "python",
   "name": "python3"
  },
  "language_info": {
   "codemirror_mode": {
    "name": "ipython",
    "version": 3
   },
   "file_extension": ".py",
   "mimetype": "text/x-python",
   "name": "python",
   "nbconvert_exporter": "python",
   "pygments_lexer": "ipython3",
   "version": "3.6.5"
  }
 },
 "nbformat": 4,
 "nbformat_minor": 2
}
