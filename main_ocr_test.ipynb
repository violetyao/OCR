{
 "cells": [
  {
   "cell_type": "code",
   "execution_count": 37,
   "metadata": {},
   "outputs": [
    {
     "name": "stdout",
     "output_type": "stream",
     "text": [
      "Will use tool 'Tesseract (sh)'\n",
      "Available languages: eng, fra, osd, snum\n",
      "Will use lang 'eng'\n"
     ]
    }
   ],
   "source": [
    "# install pyocr\n",
    "# install tesseract\n",
    "# install imagemagic \n",
    "\n",
    "from PIL.Image import Image\n",
    "import sys\n",
    "\n",
    "import pyocr\n",
    "import pyocr.builders\n",
    "\n",
    "tools = pyocr.get_available_tools()\n",
    "if len(tools) == 0:\n",
    "    print(\"No OCR tool found\")\n",
    "    sys.exit(1)\n",
    "# The tools are returned in the recommended order of usage\n",
    "tool = tools[0]\n",
    "print(\"Will use tool '%s'\" % (tool.get_name()))\n",
    "# Ex: Will use tool 'libtesseract'\n",
    "\n",
    "langs = tool.get_available_languages()\n",
    "print(\"Available languages: %s\" % \", \".join(langs))\n",
    "lang = langs[0]\n",
    "print(\"Will use lang '%s'\" % (lang))\n",
    "# Ex: Will use lang 'fra'  "
   ]
  },
  {
   "cell_type": "code",
   "execution_count": 38,
   "metadata": {},
   "outputs": [
    {
     "data": {
      "text/plain": [
       "'/Users/violetyao/Desktop/2019Spring/French_election_research/ocr/test_1997'"
      ]
     },
     "execution_count": 38,
     "metadata": {},
     "output_type": "execute_result"
    }
   ],
   "source": [
    "pwd"
   ]
  },
  {
   "cell_type": "code",
   "execution_count": 39,
   "metadata": {},
   "outputs": [],
   "source": [
    "from wand.image import Image\n",
    "from PIL import Image as PI\n",
    "import pyocr\n",
    "import pyocr.builders\n",
    "import io\n",
    "import os\n",
    "import errno\n",
    "import numpy as np\n",
    "import numba"
   ]
  },
  {
   "cell_type": "code",
   "execution_count": 40,
   "metadata": {},
   "outputs": [],
   "source": [
    "lang = 'fra'"
   ]
  },
  {
   "cell_type": "code",
   "execution_count": 41,
   "metadata": {},
   "outputs": [
    {
     "data": {
      "text/plain": [
       "'fra'"
      ]
     },
     "execution_count": 41,
     "metadata": {},
     "output_type": "execute_result"
    }
   ],
   "source": [
    "lang"
   ]
  },
  {
   "cell_type": "code",
   "execution_count": null,
   "metadata": {},
   "outputs": [
    {
     "name": "stdout",
     "output_type": "stream",
     "text": [
      "./test_1997/Brigitte Gionavetti/2011-01-01 03.05.14.pdf\n",
      "./test_1997/Brigitte Gionavetti/2011-01-01 03.05.26.pdf\n",
      "./test_1997/Franáois Simon/2011-01-01 03.02.40.pdf\n"
     ]
    }
   ],
   "source": [
    "# path = \"/Users/violetyao/Desktop/2019Spring/French_election_research/ocr/test_1997/\" \n",
    "path = './'\n",
    "\n",
    "for subdir, dirs, files in os.walk(path):\n",
    "\n",
    "    for file in files:\n",
    "\n",
    "#         print(os.path.join(subdir, file))\n",
    "        \n",
    "        if file.endswith('.pdf'):\n",
    "            print(subdir +'/'+ file)\n",
    "\n",
    "            req_image = []\n",
    "            final_text = []\n",
    "\n",
    "            image_pdf = Image(filename= subdir +'/'+ file, resolution=300)\n",
    "            image_jpeg = image_pdf.convert('jpeg')\n",
    "\n",
    "            for img in image_jpeg.sequence:\n",
    "                img_page = Image(image=img)\n",
    "                req_image.append(img_page.make_blob('jpeg'))\n",
    "\n",
    "\n",
    "            for img in req_image: \n",
    "                txt = tool.image_to_string(\n",
    "                    PI.open(io.BytesIO(img)),\n",
    "                    lang=lang,\n",
    "                    builder=pyocr.builders.TextBuilder()\n",
    "                )\n",
    "                final_text.append(txt) \n",
    "            \n",
    "            filename = subdir +'/'+ 'output/'+ file[:-4] +'.txt'\n",
    "#             filename = path +'/'+ 'output/'+ file[:-4] +'.txt'\n",
    "            os.makedirs(os.path.dirname(filename), exist_ok=True)\n",
    "            with open(filename, \"w\") as f:\n",
    "                for item in final_text:\n",
    "                    f.write(\"%s\\n\" % item)\n",
    "\n",
    "#             with open(subdir +'/'+ 'output/'+ file[:-4] +'.txt' , 'w+') as f:\n",
    "#                 for item in final_text:\n",
    "#                     f.write(\"%s\\n\" % item)\n",
    "                    \n",
    "# output directory that i want \n",
    "# /Users/violetyao/Desktop/2019Spring/French_election_research/ocr/test_1997/test_1997/output/2011-01-01 03.05.14.pdf"
   ]
  },
  {
   "cell_type": "markdown",
   "metadata": {},
   "source": [
    "nice tutorial on os.path create subfolders\n",
    "\n",
    "https://stackoverflow.com/questions/12517451/automatically-creating-directories-with-file-output"
   ]
  }
 ],
 "metadata": {
  "kernelspec": {
   "display_name": "Python 3",
   "language": "python",
   "name": "python3"
  },
  "language_info": {
   "codemirror_mode": {
    "name": "ipython",
    "version": 3
   },
   "file_extension": ".py",
   "mimetype": "text/x-python",
   "name": "python",
   "nbconvert_exporter": "python",
   "pygments_lexer": "ipython3",
   "version": "3.7.1"
  }
 },
 "nbformat": 4,
 "nbformat_minor": 2
}
